{
 "cells": [
  {
   "cell_type": "markdown",
   "metadata": {},
   "source": [
    "#Import the initial library which will be use in extraction"
   ]
  },
  {
   "cell_type": "code",
   "execution_count": 1,
   "metadata": {},
   "outputs": [],
   "source": [
    "from PIL import Image\n",
    "from pytesseract import image_to_string\n",
    "import pytesseract\n",
    "import numpy as np\n",
    "import pandas as pd\n",
    "import PIL\n",
    "import cv2\n",
    "import re\n",
    "import glob\n"
   ]
  },
  {
   "cell_type": "markdown",
   "metadata": {},
   "source": [
    "#Location of Tesseract in your system"
   ]
  },
  {
   "cell_type": "code",
   "execution_count": 2,
   "metadata": {},
   "outputs": [],
   "source": [
    "pytesseract.pytesseract.tesseract_cmd = r\"C:\\Program Files\\Tesseract-OCR\\tesseract.exe\""
   ]
  },
  {
   "cell_type": "markdown",
   "metadata": {},
   "source": [
    "#Initial coordinates of s.no,voter id,section and part number and whole block of name, guardian's relation and name,house number,age,gender. Please edit and change by hit and trial basis."
   ]
  },
  {
   "cell_type": "code",
   "execution_count": 3,
   "metadata": {},
   "outputs": [],
   "source": [
    "def image_text(x,crop_rectangle_nm = (126,285,778,530),crop_rectangle_sn= (215,235,321,277),\n",
    "               crop_rectangle_vid= (335,235, 1017, 280),crop_rectangle_sect = (550,100, 3000, 200),\n",
    "               crop_rectangle_pn = (2640,20, 2900, 100), crop_rectangle_ac = (930,20, 2330, 100)):\n",
    "    im = Image.open(x)\n",
    "    im = im.resize((3000, 3882), PIL.Image.LANCZOS)\n",
    "    im = cv2.bilateralFilter(np.array(im, dtype= np.uint8),9,75,75)\n",
    "    im = cv2.cvtColor(im, cv2.COLOR_BGR2GRAY)\n",
    "    im = cv2.adaptiveThreshold(np.array(im,dtype=np.uint8), 255, cv2.ADAPTIVE_THRESH_GAUSSIAN_C, cv2.THRESH_BINARY, 31, 9)\n",
    "    im = Image.fromarray(im)\n",
    "    countt = 1 \n",
    "    \n",
    "    for i in range(0,10):\n",
    "        for j in range(0,3):\n",
    "            kk = []\n",
    "            \n",
    "\n",
    "            cropped_im_nm = im.crop(crop_rectangle_nm)\n",
    "            c_nm = image_to_string(cropped_im_nm,config='-c preserve_interword_spaces=1')\n",
    "            details = c_nm.splitlines()\n",
    "\n",
    "            for i in details:\n",
    "                if len(i)>0:\n",
    "                    if len(i.split(\":\"))>1:\n",
    "                        kk.append(i)\n",
    "\n",
    "            if len(kk)==4:\n",
    "                file_name.append(x+str(countt))\n",
    "                n = kk[0].strip().split(\":\")[1]\n",
    "                f = kk[1].strip().split(\":\")[1]\n",
    "                h = kk[2].strip().split(\":\")[1]\n",
    "                mm = kk[3].strip().split(\":\")\n",
    "                a = mm[1].strip().split(\" \")[0]\n",
    "                g = mm[2].strip()\n",
    "                gr = kk[1].strip().split(\":\")[0]\n",
    "                name.append(n)\n",
    "                father.append(f)\n",
    "                hno.append(h)\n",
    "                age.append(a)\n",
    "                gen.append(g)\n",
    "                grel.append(gr)\n",
    "                \n",
    "            else:\n",
    "            \n",
    "                return image_text_2(im,x)\n",
    "            \n",
    "            cropped_im_sn = im.crop(crop_rectangle_sn)\n",
    "            c_sn = image_to_string(cropped_im_sn, config='-c tessedit_char_whitelist= 0123456789 --psm 6')\n",
    "            c_sn = re.sub(\"^\\s+|\\s+$\", \"\", c_sn, flags=re.UNICODE)\n",
    "            sn.append(c_sn)\n",
    "            \n",
    "            cropped_im_pn = im.crop(crop_rectangle_pn)\n",
    "            c_pn = image_to_string(cropped_im_pn, config='-c tessedit_char_whitelist=0123456789 --psm 6')\n",
    "            c_pn = re.sub(\"^\\s+|\\s+$\", \"\", c_pn, flags=re.UNICODE)\n",
    "            part.append(c_pn)\n",
    "            \n",
    "            cropped_im_vid = im.crop(crop_rectangle_vid)\n",
    "            c_vid = image_to_string(cropped_im_vid,config='-c tessedit_char_whitelist=ABCDEFGHIJKLMNOPQRSTUVWXYZ0123456789 --psm 6')\n",
    "            c_vid = re.sub(\"^\\s+|\\s+$\", \"\", c_vid, flags=re.UNICODE)\n",
    "            vid.append(c_vid)\n",
    "            \n",
    "            cropped_im_sect = im.crop(crop_rectangle_sect)\n",
    "            c_sect = image_to_string(cropped_im_sect,config='-c preserve_interword_spaces=1')\n",
    "            c_sect = re.sub(\"^\\s+|\\s+$\", \"\", c_sect, flags=re.UNICODE)\n",
    "            section.append(c_sect)\n",
    "            \n",
    "            cropped_im_ac = im.crop(crop_rectangle_ac)\n",
    "            c_ac = image_to_string(cropped_im_ac,config='-c preserve_interword_spaces=1')\n",
    "            c_ac = re.sub(\"^\\s+|\\s+$\", \"\", c_ac, flags=re.UNICODE)\n",
    "            ac.append(c_ac)\n",
    "            \n",
    "            countt+=1\n",
    "\n",
    "# Find distance between same category horizontally.\n",
    "# For example find distance between starting coordinate of first box NAME and starting coordinate of secnd box NAME on right\n",
    "# Make sure we find distance from starting point. Distance should be same for 2nd and 3rd box horizontally as well as for every 4 other value, such as age, sex etc\n",
    "            crop_rectangle_nm = tuple(np.add(crop_rectangle_nm, (911, 0,911,0)))\n",
    "            crop_rectangle_sn = tuple(np.add(crop_rectangle_sn, (912, 0,912,0)))\n",
    "            crop_rectangle_vid =  tuple(np.add(crop_rectangle_vid, (912, 0,912,0)))\n",
    "# Find ditance between third and first box. Which should be 3 times above found distance\n",
    "\n",
    "        crop_rectangle_nm = tuple(np.subtract(crop_rectangle_nm, (2733, 0,2733,0)))\n",
    "        crop_rectangle_sn = tuple(np.subtract(crop_rectangle_sn, (2736, 0,2736,0)))\n",
    "        crop_rectangle_vid =  tuple(np.subtract(crop_rectangle_vid, (2736, 0,2736,0)))\n",
    "\n",
    "# Find distance between same category vertically.\n",
    "# For example find distance between starting coordinate of first box NAME and starting coordinate of secnd box NAME down\n",
    "# Distance should be same for all 10 boxes vertically as well as for every 4 other value, such as age, sex etc\n",
    "        crop_rectangle_nm = tuple(np.add(crop_rectangle_nm, (0, 323,0,323)))\n",
    "        crop_rectangle_sn = tuple(np.add(crop_rectangle_sn, (0, 324,0,324)))\n",
    "        crop_rectangle_vid =  tuple(np.add(crop_rectangle_vid, (0, 324,0,324)))\n",
    "\n",
    "\n",
    "    return name,father,hno,age,gen,file_name,grel,sn,vid,section,part, ac"
   ]
  },
  {
   "cell_type": "code",
   "execution_count": 4,
   "metadata": {},
   "outputs": [],
   "source": [
    "def image_text_2(im,x):\n",
    "    crop_rectangle_nm = (126,241, 790, 510)\n",
    "    crop_rectangle_sn= (235, 195, 320, 230)\n",
    "    crop_rectangle_vid= (535,195, 1017, 245)\n",
    "    crop_rectangle_sect= (550,100, 3000, 190)\n",
    "    crop_rectangle_pn = (2640,20, 2900, 100)\n",
    "    crop_rectangle_ac = (930,20, 2330, 100)\n",
    "    countt = 1 \n",
    "    \n",
    "    for i in range(0,10):\n",
    "        for j in range(0,3):\n",
    "            kk = []\n",
    "            cropped_im_nm = im.crop(crop_rectangle_nm)\n",
    "            c_nm = image_to_string(cropped_im_nm,config='-c preserve_interword_spaces=1')\n",
    "            details = c_nm.splitlines()\n",
    "            for i in details:\n",
    "                if len(i)>0:\n",
    "                    if len(i.split(\":\"))>1:\n",
    "                        kk.append(i)\n",
    "            \n",
    "            if len(kk)==4:\n",
    "                \n",
    "                             \n",
    "                file_name.append(x+str(countt))\n",
    "                n = kk[0].strip().split(\":\")[1]\n",
    "                f = kk[1].strip().split(\":\")[1]\n",
    "                h = kk[2].strip().split(\":\")[1]\n",
    "                mm = kk[3].strip().split(\":\")\n",
    "                a = mm[1].strip().split(\" \")[0]\n",
    "                g = mm[2].strip()\n",
    "                gr = kk[1].strip().split(\":\")[0]\n",
    "                name.append(n)\n",
    "                father.append(f)\n",
    "                hno.append(h)\n",
    "                age.append(a)\n",
    "                gen.append(g)\n",
    "                grel.append(gr)\n",
    "                                \n",
    "                \n",
    "            else:\n",
    "                file_name.append(\"Delete\")\n",
    "                name.append(\"Delete\")\n",
    "                father.append(\"Delete\")\n",
    "                hno.append(\"Delete\")\n",
    "                age.append(\"Delete\")\n",
    "                gen.append(\"Delete\")\n",
    "                grel.append(\"Delete\")\n",
    "                \n",
    "                \n",
    "            cropped_im_sn = im.crop(crop_rectangle_sn)\n",
    "            c_sn = image_to_string(cropped_im_sn, config='-c tessedit_char_whitelist=0123456789 --psm 6')\n",
    "            c_sn = re.sub(\"^\\s+|\\s+$\", \"\", c_sn, flags=re.UNICODE)\n",
    "            sn.append(c_sn)\n",
    "            \n",
    "            cropped_im_pn = im.crop(crop_rectangle_pn)\n",
    "            c_pn = image_to_string(cropped_im_pn, config='-c tessedit_char_whitelist=0123456789 --psm 6')\n",
    "            c_pn = re.sub(\"^\\s+|\\s+$\", \"\", c_pn, flags=re.UNICODE)\n",
    "            part.append(c_pn)\n",
    "            \n",
    "            cropped_im_vid = im.crop(crop_rectangle_vid)\n",
    "            c_vid = image_to_string(cropped_im_vid,config='-c tessedit_char_whitelist=ABCDEFGHIJKLMNOPQRSTUVWXYZ0123456789 --psm 6')\n",
    "            c_vid = re.sub(\"^\\s+|\\s+$\", \"\", c_vid, flags=re.UNICODE)\n",
    "            vid.append(c_vid)\n",
    "            \n",
    "            cropped_im_sect = im.crop(crop_rectangle_sect)\n",
    "            c_sect = image_to_string(cropped_im_sect,config='-c preserve_interword_spaces=1')\n",
    "            c_sect = re.sub(\"^\\s+|\\s+$\", \"\", c_sect, flags=re.UNICODE)\n",
    "            section.append(c_sect)\n",
    "            \n",
    "            cropped_im_ac = im.crop(crop_rectangle_ac)\n",
    "            c_ac = image_to_string(cropped_im_ac,config='-c preserve_interword_spaces=1')\n",
    "            c_ac = re.sub(\"^\\s+|\\s+$\", \"\", c_ac, flags=re.UNICODE)\n",
    "            ac.append(c_ac)\n",
    "            \n",
    "            countt+=1\n",
    "                \n",
    "\n",
    "# Find distance between same category horizontally.\n",
    "# For example find distance between starting coordinate of first box NAME and starting coordinate of secnd box NAME on right\n",
    "# Make sure we find distance from starting point. Distance should be same for 2nd and 3rd box horizontally as well as for every 4 other value, such as age, sex etc\n",
    "            crop_rectangle_nm = tuple(np.add(crop_rectangle_nm, (911, 0,911,0)))\n",
    "            crop_rectangle_sn = tuple(np.add(crop_rectangle_sn, (912, 0,912,0)))\n",
    "            crop_rectangle_vid =  tuple(np.add(crop_rectangle_vid, (912, 0,912,0)))\n",
    "\n",
    "# Find ditance between third and first box. Which should be 3 times above found distance\n",
    "\n",
    "        crop_rectangle_nm = tuple(np.subtract(crop_rectangle_nm, (2733, 0,2733,0)))\n",
    "        crop_rectangle_sn = tuple(np.subtract(crop_rectangle_sn, (2736, 0,2736,0)))\n",
    "        crop_rectangle_vid =  tuple(np.subtract(crop_rectangle_vid, (2736, 0,2736,0)))\n",
    "\n",
    "\n",
    "# Find distance between same category vertically.\n",
    "# For example find distance between starting coordinate of first box NAME and starting coordinate of secnd box NAME down\n",
    "# Distance should be same for all 10 boxes vertically as well as for every 4 other value, such as age, sex etc\n",
    "        crop_rectangle_nm = tuple(np.add(crop_rectangle_nm, (0, 323,0,323)))\n",
    "        crop_rectangle_sn = tuple(np.add(crop_rectangle_sn, (0, 324,0,324)))\n",
    "        crop_rectangle_vid =  tuple(np.add(crop_rectangle_vid, (0, 324,0,324)))\n",
    "\n",
    "\n",
    "\n",
    "    return name,father,hno,age,gen,file_name,grel,sn,vid,section,part,ac"
   ]
  },
  {
   "cell_type": "markdown",
   "metadata": {},
   "source": [
    "#Fetch all data from the location"
   ]
  },
  {
   "cell_type": "code",
   "execution_count": 5,
   "metadata": {},
   "outputs": [],
   "source": [
    "#Getting all page 1\n",
    "page_1 = glob.glob('C:/Users/lenovo/Desktop/PDF2IMG/PDF2IMG/*-01.jpg')\n",
    "#Getting all page 2\n",
    "page_2 = glob.glob('C:/Users/lenovo/Desktop/PDF2IMG/PDF2IMG/*-02.jpg')\n",
    "#Getting all pages\n",
    "page_all = glob.glob('C:/Users/lenovo/Desktop/PDF2IMG/PDF2IMG/*.jpg')"
   ]
  },
  {
   "cell_type": "markdown",
   "metadata": {},
   "source": [
    "#Removing page 1 and 2 from all"
   ]
  },
  {
   "cell_type": "code",
   "execution_count": 6,
   "metadata": {},
   "outputs": [],
   "source": [
    "temp = [i for i in page_all if i not in page_1]\n",
    "page_fin = [i for i in temp if i not in page_2]"
   ]
  },
  {
   "cell_type": "markdown",
   "metadata": {},
   "source": [
    "#It gives information about how many pages for extraction"
   ]
  },
  {
   "cell_type": "code",
   "execution_count": 7,
   "metadata": {},
   "outputs": [
    {
     "data": {
      "text/plain": [
       "37"
      ]
     },
     "execution_count": 7,
     "metadata": {},
     "output_type": "execute_result"
    }
   ],
   "source": [
    "len(page_fin)"
   ]
  },
  {
   "cell_type": "code",
   "execution_count": 8,
   "metadata": {},
   "outputs": [],
   "source": [
    "def split(a, n):\n",
    "    k, m = divmod(len(a), n)\n",
    "    return (a[i * k + min(i, m):(i + 1) * k + min(i + 1, m)] for i in range(n))"
   ]
  },
  {
   "cell_type": "markdown",
   "metadata": {},
   "source": [
    "#Splitting files into 400 parts to increase frequency of saving. Increase the value to save more frequently. Do not change value after running code once. If want to change value after running. Delete all saved files or do maths"
   ]
  },
  {
   "cell_type": "code",
   "execution_count": 9,
   "metadata": {},
   "outputs": [],
   "source": [
    "page_fin_split =  list(split(page_fin,1))"
   ]
  },
  {
   "cell_type": "code",
   "execution_count": 10,
   "metadata": {},
   "outputs": [
    {
     "name": "stdout",
     "output_type": "stream",
     "text": [
      "page_1\n",
      "page_2\n",
      "page_3\n",
      "page_4\n",
      "page_5\n",
      "page_6\n",
      "page_7\n",
      "page_8\n",
      "page_9\n",
      "page_10\n",
      "page_11\n",
      "page_12\n",
      "page_13\n",
      "page_14\n",
      "page_15\n",
      "page_16\n",
      "page_17\n",
      "page_18\n",
      "page_19\n",
      "page_20\n",
      "page_21\n",
      "page_22\n",
      "page_23\n",
      "page_24\n",
      "page_25\n",
      "page_26\n",
      "page_27\n",
      "page_28\n",
      "page_29\n",
      "page_30\n",
      "page_31\n",
      "page_32\n",
      "page_33\n",
      "page_34\n",
      "page_35\n",
      "page_36\n",
      "page_37\n",
      "1\n"
     ]
    }
   ],
   "source": [
    "count = 1\n",
    "count_sem = 1\n",
    "for i in page_fin_split[count-1:]:\n",
    "    name = []\n",
    "    father = []\n",
    "    hno = []\n",
    "    age = []\n",
    "    gen = []\n",
    "    file_name = []\n",
    "    grel =[]\n",
    "    sn= []\n",
    "    vid =[]\n",
    "    section= []\n",
    "    part =[]\n",
    "    ac = []\n",
    "    for j in i:\n",
    "        n,f,h,a,g,fn,gr,s,v,sc,p,q = image_text(j)\n",
    "        print(\"page_\"+str(count_sem))\n",
    "        count_sem+=1\n",
    "    \n",
    "    df = pd.DataFrame(np.column_stack([q,p,sc,s,v,n,gr,f,h,a,g,fn]), \n",
    "                               columns=['Assembly Constituency','Part Num','Section','SNo','Voter ID','Name','G_Relation','Guardian', 'House_No','Age','Gender','File_Name'])\n",
    "    df.to_csv(str(count)+\".csv\",index = False)\n",
    "    print(count)\n",
    "    count+=1"
   ]
  },
  {
   "cell_type": "code",
   "execution_count": null,
   "metadata": {},
   "outputs": [],
   "source": []
  }
 ],
 "metadata": {
  "kernelspec": {
   "display_name": "Python 3",
   "language": "python",
   "name": "python3"
  },
  "language_info": {
   "codemirror_mode": {
    "name": "ipython",
    "version": 3
   },
   "file_extension": ".py",
   "mimetype": "text/x-python",
   "name": "python",
   "nbconvert_exporter": "python",
   "pygments_lexer": "ipython3",
   "version": "3.7.4"
  }
 },
 "nbformat": 4,
 "nbformat_minor": 2
}
