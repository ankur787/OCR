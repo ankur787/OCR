{
 "cells": [
  {
   "cell_type": "markdown",
   "metadata": {},
   "source": [
    "#Import the initial library which will be use in extraction"
   ]
  },
  {
   "cell_type": "code",
   "execution_count": 1,
   "metadata": {},
   "outputs": [],
   "source": [
    "from PIL import Image\n",
    "from pytesseract import image_to_string\n",
    "import pytesseract\n",
    "import numpy as np\n",
    "import pandas as pd\n",
    "import PIL\n",
    "import cv2\n",
    "import glob\n"
   ]
  },
  {
   "cell_type": "markdown",
   "metadata": {},
   "source": [
    "#Location of Tesseract in your system"
   ]
  },
  {
   "cell_type": "code",
   "execution_count": 2,
   "metadata": {},
   "outputs": [],
   "source": [
    "pytesseract.pytesseract.tesseract_cmd = r\"C:\\Program Files (x86)\\Tesseract-OCR\\tesseract.exe\""
   ]
  },
  {
   "cell_type": "markdown",
   "metadata": {},
   "source": [
    "#Initial coordinates of s.no,voter id,section and part number and whole block of name, guardian's relation and name,house number,age,gender. Please edit and change by hit and trial basis."
   ]
  },
  {
   "cell_type": "code",
   "execution_count": 3,
   "metadata": {},
   "outputs": [],
   "source": [
    "def image_text(x,crop_rectangle_nm = (110,275, 778, 530),crop_rectangle_sn= (130, 230, 303, 265),\n",
    "               crop_rectangle_vid= (310,230, 1015, 270),crop_rectangle_sect = (550,120, 2400, 180),\n",
    "               crop_rectangle_pn = (2600,30, 2820, 110)):\n",
    "    im = Image.open(x)\n",
    "    im = im.resize((3000, 3882), PIL.Image.LANCZOS)\n",
    "    im = cv2.bilateralFilter(np.array(im, dtype= np.uint8),9,75,75)\n",
    "    im = cv2.cvtColor(im, cv2.COLOR_BGR2GRAY)\n",
    "    im = cv2.adaptiveThreshold(np.array(im,dtype=np.uint8), 255, cv2.ADAPTIVE_THRESH_GAUSSIAN_C, cv2.THRESH_BINARY, 31, 9)\n",
    "    im = Image.fromarray(im)\n",
    "    countt = 1 \n",
    "    \n",
    "    for i in range(0,10):\n",
    "        for j in range(0,3):\n",
    "            kk = []\n",
    "            \n",
    "\n",
    "            cropped_im_nm = im.crop(crop_rectangle_nm)\n",
    "            c_nm = image_to_string(cropped_im_nm,config='-c tessedit_char_whitelist=/-abcdefghijklmnopqrstuvzxyzABCDEFGHIJKLMNOPQRSTUVWXYZ0123456789 --psm 6')\n",
    "            details = c_nm.splitlines()\n",
    "\n",
    "            for i in details:\n",
    "                if len(i)>0:\n",
    "                    if len(i.split(\":\"))>1:\n",
    "                        kk.append(i)\n",
    "\n",
    "            if len(kk)==4:\n",
    "\n",
    "                file_name.append(x+str(countt))\n",
    "                n = kk[0].strip().split(\":\")[1]\n",
    "                f = kk[1].strip().split(\":\")[1]\n",
    "                h = kk[2].strip().split(\":\")[1]\n",
    "                mm = kk[3].strip().split(\":\")\n",
    "                a = mm[1].strip().split(\" \")[0]\n",
    "                g = mm[2].strip()\n",
    "                gr = kk[1].strip().split(\":\")[0]\n",
    "                name.append(n)\n",
    "                father.append(f)\n",
    "                hno.append(h)\n",
    "                age.append(a)\n",
    "                gen.append(g)\n",
    "                grel.append(gr)\n",
    "                \n",
    "            else:\n",
    "                return image_text_2(im,x)\n",
    "            \n",
    "            cropped_im_sn = im.crop(crop_rectangle_sn)\n",
    "            c_sn = image_to_string(cropped_im_sn, config='-c tessedit_char_whitelist= 0123456789 --psm 6')\n",
    "            sn.append(c_sn)\n",
    "            \n",
    "            cropped_im_pn = im.crop(crop_rectangle_pn)\n",
    "            c_pn = image_to_string(cropped_im_pn, config='-c tessedit_char_whitelist=0123456789 --psm 6')\n",
    "            part.append(c_pn)\n",
    "            \n",
    "            cropped_im_vid = im.crop(crop_rectangle_vid)\n",
    "            c_vid = image_to_string(cropped_im_vid,config='-c tessedit_char_whitelist=/-abcdefghijklmnopqrstuvzxyzABCDEFGHIJKLMNOPQRSTUVWXYZ0123456789 --psm 6')\n",
    "            vid.append(c_vid)\n",
    "            \n",
    "            cropped_im_sect = im.crop(crop_rectangle_sect)\n",
    "            c_sect = image_to_string(cropped_im_sect,config='-c tessedit_char_whitelist=.,/-abcdefghijklmnopqrstuvzxyzABCDEFGHIJKLMNOPQRSTUVWXYZ0123456789 --psm 6')\n",
    "            section.append(c_sect)\n",
    "            \n",
    "            countt+=1\n",
    "\n",
    "# Find distance between same category horizontally.\n",
    "# For example find distance between starting coordinate of first box NAME and starting coordinate of secnd box NAME on right\n",
    "# Make sure we find distance from starting point. Distance should be same for 2nd and 3rd box horizontally as well as for every 4 other value, such as age, sex etc\n",
    "            crop_rectangle_nm = tuple(np.add(crop_rectangle_nm, (911, 0,911,0)))\n",
    "            crop_rectangle_sn = tuple(np.add(crop_rectangle_sn, (912, 0,912,0)))\n",
    "            crop_rectangle_vid =  tuple(np.add(crop_rectangle_vid, (912, 0,912,0)))\n",
    "# Find ditance between third and first box. Which should be 3 times above found distance\n",
    "\n",
    "        crop_rectangle_nm = tuple(np.subtract(crop_rectangle_nm, (2733, 0,2733,0)))\n",
    "        crop_rectangle_sn = tuple(np.subtract(crop_rectangle_sn, (2736, 0,2736,0)))\n",
    "        crop_rectangle_vid =  tuple(np.subtract(crop_rectangle_vid, (2736, 0,2736,0)))\n",
    "\n",
    "# Find distance between same category vertically.\n",
    "# For example find distance between starting coordinate of first box NAME and starting coordinate of secnd box NAME down\n",
    "# Distance should be same for all 10 boxes vertically as well as for every 4 other value, such as age, sex etc\n",
    "        crop_rectangle_nm = tuple(np.add(crop_rectangle_nm, (0, 323,0,323)))\n",
    "        crop_rectangle_sn = tuple(np.add(crop_rectangle_sn, (0, 324,0,324)))\n",
    "        crop_rectangle_vid =  tuple(np.add(crop_rectangle_vid, (0, 324,0,324)))\n",
    "\n",
    "\n",
    "    return name,father,hno,age,gen,file_name,grel,sn,vid,section,part"
   ]
  },
  {
   "cell_type": "code",
   "execution_count": 4,
   "metadata": {},
   "outputs": [],
   "source": [
    "def image_text_2(im,x):\n",
    "    crop_rectangle_nm = (110,241, 778, 510)\n",
    "    crop_rectangle_sn= (126, 195, 302, 236)\n",
    "    crop_rectangle_vid= (310,195, 1015, 240)\n",
    "    crop_rectangle_sect= (550,120, 2400, 180)\n",
    "    crop_rectangle_pn = (2600,30, 2820, 110)\n",
    "    countt = 1 \n",
    "    \n",
    "    for i in range(0,10):\n",
    "        for j in range(0,3):\n",
    "            kk = []\n",
    "            cropped_im_nm = im.crop(crop_rectangle_nm)\n",
    "            c_nm = image_to_string(cropped_im_nm,config='-c tessedit_char_whitelist=/-abcdefghijklmnopqrstuvzxyzABCDEFGHIJKLMNOPQRSTUVWXYZ0123456789 --psm 6')\n",
    "            details = c_nm.splitlines()\n",
    "            for i in details:\n",
    "                if len(i)>0:\n",
    "                    if len(i.split(\":\"))>1:\n",
    "                        kk.append(i)\n",
    "            if len(kk)==4:\n",
    " \n",
    "                file_name.append(x+str(countt))\n",
    "                n = kk[0].strip().split(\":\")[1]\n",
    "                f = kk[1].strip().split(\":\")[1]\n",
    "                h = kk[2].strip().split(\":\")[1]\n",
    "                mm = kk[3].strip().split(\":\")\n",
    "                a = mm[1].strip().split(\" \")[0]\n",
    "                g = mm[2].strip()\n",
    "                gr = kk[1].strip().split(\":\")[0]\n",
    "                name.append(n)\n",
    "                father.append(f)\n",
    "                hno.append(h)\n",
    "                age.append(a)\n",
    "                gen.append(g)\n",
    "                grel.append(gr)\n",
    "                \n",
    "            else:\n",
    "                break\n",
    "                \n",
    "            cropped_im_sn = im.crop(crop_rectangle_sn)\n",
    "            c_sn = image_to_string(cropped_im_sn, config='-c tessedit_char_whitelist=0123456789 --psm 6')\n",
    "            sn.append(c_sn)\n",
    "            \n",
    "            cropped_im_pn = im.crop(crop_rectangle_pn)\n",
    "            c_pn = image_to_string(cropped_im_pn, config='-c tessedit_char_whitelist=0123456789 --psm 6')\n",
    "            part.append(c_pn)\n",
    "            \n",
    "            cropped_im_vid = im.crop(crop_rectangle_vid)\n",
    "            c_vid = image_to_string(cropped_im_vid,config='-c tessedit_char_whitelist=/-abcdefghijklmnopqrstuvzxyzABCDEFGHIJKLMNOPQRSTUVWXYZ0123456789 --psm 6')\n",
    "            vid.append(c_vid)\n",
    "            \n",
    "            cropped_im_sect = im.crop(crop_rectangle_sect)\n",
    "            c_sect = image_to_string(cropped_im_sect,config='-c tessedit_char_whitelist=.,/-abcdefghijklmnopqrstuvzxyzABCDEFGHIJKLMNOPQRSTUVWXYZ0123456789 --psm 6')\n",
    "            section.append(c_sect)\n",
    "            \n",
    "            countt+=1\n",
    "                \n",
    "\n",
    "# Find distance between same category horizontally.\n",
    "# For example find distance between starting coordinate of first box NAME and starting coordinate of secnd box NAME on right\n",
    "# Make sure we find distance from starting point. Distance should be same for 2nd and 3rd box horizontally as well as for every 4 other value, such as age, sex etc\n",
    "            crop_rectangle_nm = tuple(np.add(crop_rectangle_nm, (911, 0,911,0)))\n",
    "            crop_rectangle_sn = tuple(np.add(crop_rectangle_sn, (912, 0,912,0)))\n",
    "            crop_rectangle_vid =  tuple(np.add(crop_rectangle_vid, (912, 0,912,0)))\n",
    "\n",
    "# Find ditance between third and first box. Which should be 3 times above found distance\n",
    "\n",
    "        crop_rectangle_nm = tuple(np.subtract(crop_rectangle_nm, (2733, 0,2733,0)))\n",
    "        crop_rectangle_sn = tuple(np.subtract(crop_rectangle_sn, (2736, 0,2736,0)))\n",
    "        crop_rectangle_vid =  tuple(np.subtract(crop_rectangle_vid, (2736, 0,2736,0)))\n",
    "\n",
    "\n",
    "# Find distance between same category vertically.\n",
    "# For example find distance between starting coordinate of first box NAME and starting coordinate of secnd box NAME down\n",
    "# Distance should be same for all 10 boxes vertically as well as for every 4 other value, such as age, sex etc\n",
    "        crop_rectangle_nm = tuple(np.add(crop_rectangle_nm, (0, 323,0,323)))\n",
    "        crop_rectangle_sn = tuple(np.add(crop_rectangle_sn, (0, 324,0,324)))\n",
    "        crop_rectangle_vid =  tuple(np.add(crop_rectangle_vid, (0, 324,0,324)))\n",
    "\n",
    "\n",
    "\n",
    "    return name,father,hno,age,gen,file_name,grel,sn,vid,section,part"
   ]
  },
  {
   "cell_type": "markdown",
   "metadata": {},
   "source": [
    "#Fetch all data from the location"
   ]
  },
  {
   "cell_type": "code",
   "execution_count": 5,
   "metadata": {},
   "outputs": [],
   "source": [
    "#Getting all page 1\n",
    "page_1 = glob.glob('C:/Users/user/Desktop/New Delhi/Boss/*-01.jpg')\n",
    "#Getting all page 2\n",
    "page_2 = glob.glob('C:/Users/user/Desktop/New Delhi/Boss/*-02.jpg')\n",
    "#Getting all pages\n",
    "page_all = glob.glob('C:/Users/user/Desktop/New Delhi/Boss/*.jpg')"
   ]
  },
  {
   "cell_type": "markdown",
   "metadata": {},
   "source": [
    "#Removing page 1 and 2 from all"
   ]
  },
  {
   "cell_type": "code",
   "execution_count": 6,
   "metadata": {},
   "outputs": [],
   "source": [
    "temp = [i for i in page_all if i not in page_1]\n",
    "page_fin = [i for i in temp if i not in page_2]"
   ]
  },
  {
   "cell_type": "markdown",
   "metadata": {},
   "source": [
    "#It gives information about how many pages for extraction"
   ]
  },
  {
   "cell_type": "code",
   "execution_count": 7,
   "metadata": {},
   "outputs": [
    {
     "data": {
      "text/plain": [
       "41"
      ]
     },
     "execution_count": 7,
     "metadata": {},
     "output_type": "execute_result"
    }
   ],
   "source": [
    "len(page_fin)"
   ]
  },
  {
   "cell_type": "code",
   "execution_count": 8,
   "metadata": {},
   "outputs": [],
   "source": [
    "def split(a, n):\n",
    "    k, m = divmod(len(a), n)\n",
    "    return (a[i * k + min(i, m):(i + 1) * k + min(i + 1, m)] for i in range(n))"
   ]
  },
  {
   "cell_type": "markdown",
   "metadata": {},
   "source": [
    "#Splitting files into 400 parts to increase frequency of saving. Increase the value to save more frequently. Do not change value after running code once. If want to change value after running. Delete all saved files or do maths"
   ]
  },
  {
   "cell_type": "code",
   "execution_count": 9,
   "metadata": {},
   "outputs": [],
   "source": [
    "page_fin_split =  list(split(page_fin, 4))"
   ]
  },
  {
   "cell_type": "markdown",
   "metadata": {},
   "source": [
    "#Count value is the starting value for code to work. If the last file saved before stopping code was '10', count value for running code again should be '11'"
   ]
  },
  {
   "cell_type": "code",
   "execution_count": 10,
   "metadata": {},
   "outputs": [
    {
     "name": "stdout",
     "output_type": "stream",
     "text": [
      "page_1\n",
      "page_2\n",
      "page_3\n",
      "page_4\n",
      "page_5\n",
      "page_6\n",
      "page_7\n",
      "page_8\n",
      "page_9\n",
      "page_10\n",
      "page_11\n",
      "1\n",
      "page_12\n",
      "page_13\n",
      "page_14\n",
      "page_15\n",
      "page_16\n",
      "page_17\n",
      "page_18\n",
      "page_19\n",
      "page_20\n",
      "page_21\n",
      "2\n",
      "page_22\n",
      "page_23\n",
      "page_24\n",
      "page_25\n",
      "page_26\n",
      "page_27\n",
      "page_28\n",
      "page_29\n",
      "page_30\n",
      "page_31\n",
      "3\n",
      "page_32\n",
      "page_33\n",
      "page_34\n",
      "page_35\n",
      "page_36\n",
      "page_37\n",
      "page_38\n",
      "page_39\n",
      "page_40\n",
      "page_41\n",
      "4\n"
     ]
    }
   ],
   "source": [
    "count = 1\n",
    "count_sem = 1\n",
    "for i in page_fin_split[count-1:]:\n",
    "    name = []\n",
    "    father = []\n",
    "    hno = []\n",
    "    age = []\n",
    "    gen = []\n",
    "    file_name = []\n",
    "    grel =[]\n",
    "    sn= []\n",
    "    vid =[]\n",
    "    section= []\n",
    "    part =[]\n",
    "    for j in i:\n",
    "        n,f,h,a,g,fn,gr,s,v,sc,p = image_text(j)\n",
    "        print(\"page_\"+str(count_sem))\n",
    "        count_sem+=1\n",
    "    \n",
    "    df = pd.DataFrame(np.column_stack([s,v,sc,p,n,gr,f,h,a,g,fn]), \n",
    "                               columns=['S.No','Voter ID','Section', 'Part Num','Name','G_Relation','Guardian', 'House_No','Age','Gender','File_Name'])\n",
    "    df.to_csv(str(count)+\".csv\",index = False)\n",
    "    print(count)\n",
    "    count+=1"
   ]
  },
  {
   "cell_type": "code",
   "execution_count": 11,
   "metadata": {},
   "outputs": [],
   "source": [
    "import shutil\n",
    "import os"
   ]
  },
  {
   "cell_type": "code",
   "execution_count": 12,
   "metadata": {},
   "outputs": [
    {
     "name": "stdout",
     "output_type": "stream",
     "text": [
      "1.csv has been imported.\n",
      "2.csv has been imported.\n",
      "3.csv has been imported.\n",
      "4.csv has been imported.\n"
     ]
    }
   ],
   "source": [
    "#import csv files from folder\n",
    "#path = 'C:/Users/ankur/Desktop/hello'\n",
    "allFiles = glob.glob(\"*.csv\")\n",
    "with open('final.csv', 'wb') as outfile:\n",
    "    for i, fname in enumerate(allFiles):\n",
    "        with open(fname, 'rb') as infile:\n",
    "            if i != 0:\n",
    "                infile.readline()  # Throw away header on all but first file\n",
    "            # Block copy rest of file from input to output without parsing\n",
    "            shutil.copyfileobj(infile, outfile)\n",
    "            print(fname + \" has been imported.\")"
   ]
  },
  {
   "cell_type": "code",
   "execution_count": 14,
   "metadata": {},
   "outputs": [],
   "source": [
    "df=pd.read_csv('final2.csv')"
   ]
  },
  {
   "cell_type": "code",
   "execution_count": 15,
   "metadata": {},
   "outputs": [],
   "source": [
    "df1= pd.read_csv('final.csv')"
   ]
  },
  {
   "cell_type": "code",
   "execution_count": 16,
   "metadata": {},
   "outputs": [],
   "source": [
    "frame = [df, df1]\n",
    "result = pd.concat(frame)"
   ]
  },
  {
   "cell_type": "code",
   "execution_count": 18,
   "metadata": {},
   "outputs": [
    {
     "data": {
      "text/html": [
       "<div>\n",
       "<style scoped>\n",
       "    .dataframe tbody tr th:only-of-type {\n",
       "        vertical-align: middle;\n",
       "    }\n",
       "\n",
       "    .dataframe tbody tr th {\n",
       "        vertical-align: top;\n",
       "    }\n",
       "\n",
       "    .dataframe thead th {\n",
       "        text-align: right;\n",
       "    }\n",
       "</style>\n",
       "<table border=\"1\" class=\"dataframe\">\n",
       "  <thead>\n",
       "    <tr style=\"text-align: right;\">\n",
       "      <th></th>\n",
       "      <th>S.No</th>\n",
       "      <th>Voter ID</th>\n",
       "      <th>Section</th>\n",
       "      <th>Part Num</th>\n",
       "      <th>Name</th>\n",
       "      <th>G_Relation</th>\n",
       "      <th>Guardian</th>\n",
       "      <th>House_No</th>\n",
       "      <th>Age</th>\n",
       "      <th>Gender</th>\n",
       "      <th>File_Name</th>\n",
       "    </tr>\n",
       "  </thead>\n",
       "  <tbody>\n",
       "    <tr>\n",
       "      <th>0</th>\n",
       "      <td>1</td>\n",
       "      <td>SJE1846426</td>\n",
       "      <td>1-BLOCK-A , NEAR AMBESSEDOR HOTEL, SUJAN SINGH...</td>\n",
       "      <td>103</td>\n",
       "      <td>BALA</td>\n",
       "      <td>Husband's Name</td>\n",
       "      <td>NARENDER</td>\n",
       "      <td>7</td>\n",
       "      <td>42</td>\n",
       "      <td>FEMALE</td>\n",
       "      <td>C:/Users/user/Desktop/New Delhi/Boss\\U05A40P10...</td>\n",
       "    </tr>\n",
       "    <tr>\n",
       "      <th>1</th>\n",
       "      <td>2</td>\n",
       "      <td>SJE1285303</td>\n",
       "      <td>2-BLOCK-F, NEAR AMBASSDOR HOTEL, SUJAN SINGH P...</td>\n",
       "      <td>103</td>\n",
       "      <td>JAISAL SINGH</td>\n",
       "      <td>Father's Name</td>\n",
       "      <td>TEJBIR SINGH</td>\n",
       "      <td>63</td>\n",
       "      <td>38</td>\n",
       "      <td>MALE</td>\n",
       "      <td>C:/Users/user/Desktop/New Delhi/Boss\\U05A40P10...</td>\n",
       "    </tr>\n",
       "    <tr>\n",
       "      <th>2</th>\n",
       "      <td>3</td>\n",
       "      <td>SJE1666683</td>\n",
       "      <td>2-BLOCK-F, NEAR AMBASSDOR HOTEL, SUJAN SINGH P...</td>\n",
       "      <td>103</td>\n",
       "      <td>ANJALI ANAND</td>\n",
       "      <td>Husband's Name</td>\n",
       "      <td>JAISAL SINGH</td>\n",
       "      <td>63</td>\n",
       "      <td>36</td>\n",
       "      <td>FEMALE</td>\n",
       "      <td>C:/Users/user/Desktop/New Delhi/Boss\\U05A40P10...</td>\n",
       "    </tr>\n",
       "    <tr>\n",
       "      <th>3</th>\n",
       "      <td>4</td>\n",
       "      <td>SJE1624468</td>\n",
       "      <td>2-BLOCK-F, NEAR AMBASSDOR HOTEL, SUJAN SINGH P...</td>\n",
       "      <td>103</td>\n",
       "      <td>KIRIT NATHALAL FATANIA</td>\n",
       "      <td>Father's Name</td>\n",
       "      <td>NATHALAL FATANIA</td>\n",
       "      <td>64</td>\n",
       "      <td>56</td>\n",
       "      <td>MALE</td>\n",
       "      <td>C:/Users/user/Desktop/New Delhi/Boss\\U05A40P10...</td>\n",
       "    </tr>\n",
       "    <tr>\n",
       "      <th>4</th>\n",
       "      <td>5</td>\n",
       "      <td>SJE1679959</td>\n",
       "      <td>2-BLOCK-F, NEAR AMBASSDOR HOTEL, SUJAN SINGH P...</td>\n",
       "      <td>103</td>\n",
       "      <td>PARMESHWAR</td>\n",
       "      <td>Father's Name</td>\n",
       "      <td>TRILOK YADAV</td>\n",
       "      <td>64</td>\n",
       "      <td>41</td>\n",
       "      <td>MALE</td>\n",
       "      <td>C:/Users/user/Desktop/New Delhi/Boss\\U05A40P10...</td>\n",
       "    </tr>\n",
       "  </tbody>\n",
       "</table>\n",
       "</div>"
      ],
      "text/plain": [
       "  S.No    Voter ID                                            Section  \\\n",
       "0    1  SJE1846426  1-BLOCK-A , NEAR AMBESSEDOR HOTEL, SUJAN SINGH...   \n",
       "1    2  SJE1285303  2-BLOCK-F, NEAR AMBASSDOR HOTEL, SUJAN SINGH P...   \n",
       "2    3  SJE1666683  2-BLOCK-F, NEAR AMBASSDOR HOTEL, SUJAN SINGH P...   \n",
       "3    4  SJE1624468  2-BLOCK-F, NEAR AMBASSDOR HOTEL, SUJAN SINGH P...   \n",
       "4    5  SJE1679959  2-BLOCK-F, NEAR AMBASSDOR HOTEL, SUJAN SINGH P...   \n",
       "\n",
       "  Part Num                     Name       G_Relation           Guardian  \\\n",
       "0      103                     BALA  Husband's Name            NARENDER   \n",
       "1      103             JAISAL SINGH   Father's Name        TEJBIR SINGH   \n",
       "2      103             ANJALI ANAND  Husband's Name        JAISAL SINGH   \n",
       "3      103   KIRIT NATHALAL FATANIA   Father's Name    NATHALAL FATANIA   \n",
       "4      103               PARMESHWAR   Father's Name        TRILOK YADAV   \n",
       "\n",
       "  House_No Age  Gender                                          File_Name  \n",
       "0        7  42  FEMALE  C:/Users/user/Desktop/New Delhi/Boss\\U05A40P10...  \n",
       "1       63  38    MALE  C:/Users/user/Desktop/New Delhi/Boss\\U05A40P10...  \n",
       "2       63  36  FEMALE  C:/Users/user/Desktop/New Delhi/Boss\\U05A40P10...  \n",
       "3       64  56    MALE  C:/Users/user/Desktop/New Delhi/Boss\\U05A40P10...  \n",
       "4       64  41    MALE  C:/Users/user/Desktop/New Delhi/Boss\\U05A40P10...  "
      ]
     },
     "execution_count": 18,
     "metadata": {},
     "output_type": "execute_result"
    }
   ],
   "source": [
    "result.head()"
   ]
  },
  {
   "cell_type": "code",
   "execution_count": 19,
   "metadata": {},
   "outputs": [],
   "source": [
    "result.to_excel('New Delhi Election Data.xlsx', index=False)"
   ]
  },
  {
   "cell_type": "code",
   "execution_count": 20,
   "metadata": {},
   "outputs": [],
   "source": [
    "df2 = pd.read_excel(\"New Delhi Election Data.xlsx\")"
   ]
  },
  {
   "cell_type": "code",
   "execution_count": 22,
   "metadata": {},
   "outputs": [],
   "source": [
    "df3= df2['File_Name'].str.split(\"\\\\\", expand= True)"
   ]
  },
  {
   "cell_type": "code",
   "execution_count": 23,
   "metadata": {},
   "outputs": [],
   "source": [
    "df2['File_Name']= df3[1]"
   ]
  },
  {
   "cell_type": "code",
   "execution_count": 24,
   "metadata": {},
   "outputs": [
    {
     "data": {
      "text/html": [
       "<div>\n",
       "<style scoped>\n",
       "    .dataframe tbody tr th:only-of-type {\n",
       "        vertical-align: middle;\n",
       "    }\n",
       "\n",
       "    .dataframe tbody tr th {\n",
       "        vertical-align: top;\n",
       "    }\n",
       "\n",
       "    .dataframe thead th {\n",
       "        text-align: right;\n",
       "    }\n",
       "</style>\n",
       "<table border=\"1\" class=\"dataframe\">\n",
       "  <thead>\n",
       "    <tr style=\"text-align: right;\">\n",
       "      <th></th>\n",
       "      <th>S.No</th>\n",
       "      <th>Voter ID</th>\n",
       "      <th>Section</th>\n",
       "      <th>Part Num</th>\n",
       "      <th>Name</th>\n",
       "      <th>G_Relation</th>\n",
       "      <th>Guardian</th>\n",
       "      <th>House_No</th>\n",
       "      <th>Age</th>\n",
       "      <th>Gender</th>\n",
       "      <th>File_Name</th>\n",
       "    </tr>\n",
       "  </thead>\n",
       "  <tbody>\n",
       "    <tr>\n",
       "      <th>0</th>\n",
       "      <td>1</td>\n",
       "      <td>SJE1846426</td>\n",
       "      <td>1-BLOCK-A , NEAR AMBESSEDOR HOTEL, SUJAN SINGH...</td>\n",
       "      <td>103</td>\n",
       "      <td>BALA</td>\n",
       "      <td>Husband</td>\n",
       "      <td>NARENDER</td>\n",
       "      <td>7</td>\n",
       "      <td>42</td>\n",
       "      <td>FEMALE</td>\n",
       "      <td>U05A40P103-03.jpg1</td>\n",
       "    </tr>\n",
       "    <tr>\n",
       "      <th>1</th>\n",
       "      <td>2</td>\n",
       "      <td>SJE1285303</td>\n",
       "      <td>2-BLOCK-F, NEAR AMBASSDOR HOTEL, SUJAN SINGH P...</td>\n",
       "      <td>103</td>\n",
       "      <td>JAISAL SINGH</td>\n",
       "      <td>Father</td>\n",
       "      <td>TEJBIR SINGH</td>\n",
       "      <td>63</td>\n",
       "      <td>38</td>\n",
       "      <td>MALE</td>\n",
       "      <td>U05A40P103-04.jpg1</td>\n",
       "    </tr>\n",
       "    <tr>\n",
       "      <th>2</th>\n",
       "      <td>3</td>\n",
       "      <td>SJE1666683</td>\n",
       "      <td>2-BLOCK-F, NEAR AMBASSDOR HOTEL, SUJAN SINGH P...</td>\n",
       "      <td>103</td>\n",
       "      <td>ANJALI ANAND</td>\n",
       "      <td>Husband</td>\n",
       "      <td>JAISAL SINGH</td>\n",
       "      <td>63</td>\n",
       "      <td>36</td>\n",
       "      <td>FEMALE</td>\n",
       "      <td>U05A40P103-04.jpg2</td>\n",
       "    </tr>\n",
       "    <tr>\n",
       "      <th>3</th>\n",
       "      <td>4</td>\n",
       "      <td>SJE1624468</td>\n",
       "      <td>2-BLOCK-F, NEAR AMBASSDOR HOTEL, SUJAN SINGH P...</td>\n",
       "      <td>103</td>\n",
       "      <td>KIRIT NATHALAL FATANIA</td>\n",
       "      <td>Father</td>\n",
       "      <td>NATHALAL FATANIA</td>\n",
       "      <td>64</td>\n",
       "      <td>56</td>\n",
       "      <td>MALE</td>\n",
       "      <td>U05A40P103-04.jpg3</td>\n",
       "    </tr>\n",
       "    <tr>\n",
       "      <th>4</th>\n",
       "      <td>5</td>\n",
       "      <td>SJE1679959</td>\n",
       "      <td>2-BLOCK-F, NEAR AMBASSDOR HOTEL, SUJAN SINGH P...</td>\n",
       "      <td>103</td>\n",
       "      <td>PARMESHWAR</td>\n",
       "      <td>Father</td>\n",
       "      <td>TRILOK YADAV</td>\n",
       "      <td>64</td>\n",
       "      <td>41</td>\n",
       "      <td>MALE</td>\n",
       "      <td>U05A40P103-04.jpg4</td>\n",
       "    </tr>\n",
       "  </tbody>\n",
       "</table>\n",
       "</div>"
      ],
      "text/plain": [
       "  S.No    Voter ID                                            Section  \\\n",
       "0    1  SJE1846426  1-BLOCK-A , NEAR AMBESSEDOR HOTEL, SUJAN SINGH...   \n",
       "1    2  SJE1285303  2-BLOCK-F, NEAR AMBASSDOR HOTEL, SUJAN SINGH P...   \n",
       "2    3  SJE1666683  2-BLOCK-F, NEAR AMBASSDOR HOTEL, SUJAN SINGH P...   \n",
       "3    4  SJE1624468  2-BLOCK-F, NEAR AMBASSDOR HOTEL, SUJAN SINGH P...   \n",
       "4    5  SJE1679959  2-BLOCK-F, NEAR AMBASSDOR HOTEL, SUJAN SINGH P...   \n",
       "\n",
       "  Part Num                     Name G_Relation           Guardian House_No  \\\n",
       "0      103                     BALA    Husband           NARENDER        7   \n",
       "1      103             JAISAL SINGH     Father       TEJBIR SINGH       63   \n",
       "2      103             ANJALI ANAND    Husband       JAISAL SINGH       63   \n",
       "3      103   KIRIT NATHALAL FATANIA     Father   NATHALAL FATANIA       64   \n",
       "4      103               PARMESHWAR     Father       TRILOK YADAV       64   \n",
       "\n",
       "  Age  Gender           File_Name  \n",
       "0  42  FEMALE  U05A40P103-03.jpg1  \n",
       "1  38    MALE  U05A40P103-04.jpg1  \n",
       "2  36  FEMALE  U05A40P103-04.jpg2  \n",
       "3  56    MALE  U05A40P103-04.jpg3  \n",
       "4  41    MALE  U05A40P103-04.jpg4  "
      ]
     },
     "execution_count": 24,
     "metadata": {},
     "output_type": "execute_result"
    }
   ],
   "source": [
    "df2.head()"
   ]
  },
  {
   "cell_type": "code",
   "execution_count": 25,
   "metadata": {},
   "outputs": [
    {
     "data": {
      "text/plain": [
       "MALE            11752\n",
       "FEMALE           9369\n",
       "THIRD GENDER        1\n",
       "Name: Gender, dtype: int64"
      ]
     },
     "execution_count": 25,
     "metadata": {},
     "output_type": "execute_result"
    }
   ],
   "source": [
    "df2['Gender'].value_counts()"
   ]
  },
  {
   "cell_type": "code",
   "execution_count": 26,
   "metadata": {},
   "outputs": [
    {
     "data": {
      "text/plain": [
       "Father     14563\n",
       "Husband     6328\n",
       "Mother       189\n",
       "Other         42\n",
       "Name: G_Relation, dtype: int64"
      ]
     },
     "execution_count": 26,
     "metadata": {},
     "output_type": "execute_result"
    }
   ],
   "source": [
    "df2['G_Relation'].value_counts()"
   ]
  },
  {
   "cell_type": "code",
   "execution_count": 28,
   "metadata": {},
   "outputs": [],
   "source": [
    "df2.to_excel('New Delhi Election Data.xlsx', index=False)"
   ]
  },
  {
   "cell_type": "code",
   "execution_count": null,
   "metadata": {},
   "outputs": [],
   "source": []
  }
 ],
 "metadata": {
  "kernelspec": {
   "display_name": "Python 3",
   "language": "python",
   "name": "python3"
  },
  "language_info": {
   "codemirror_mode": {
    "name": "ipython",
    "version": 3
   },
   "file_extension": ".py",
   "mimetype": "text/x-python",
   "name": "python",
   "nbconvert_exporter": "python",
   "pygments_lexer": "ipython3",
   "version": "3.7.1"
  }
 },
 "nbformat": 4,
 "nbformat_minor": 2
}
