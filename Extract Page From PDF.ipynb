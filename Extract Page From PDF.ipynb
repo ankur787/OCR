{
 "cells": [
  {
   "cell_type": "code",
   "execution_count": 1,
   "metadata": {},
   "outputs": [],
   "source": [
    "# ! pip install PyMuPDF"
   ]
  },
  {
   "cell_type": "code",
   "execution_count": 2,
   "metadata": {},
   "outputs": [],
   "source": [
    "import fitz"
   ]
  },
  {
   "cell_type": "code",
   "execution_count": 3,
   "metadata": {},
   "outputs": [],
   "source": [
    "file=fitz.open('sitarganj_pn_01.PDF')\n",
    "#get the number of pages...\n",
    "pages=len(file)\n",
    "#iterating throw every number of pages...\n",
    "for i in range(pages):\n",
    "    #getting the every image one by one\n",
    "    for image in file.getPageImageList(i):\n",
    "        \n",
    "        #identify images...\n",
    "        c=image[0]\n",
    "        \n",
    "        pic=fitz.Pixmap(file,c)\n",
    "        final_pic=fitz.Pixmap(fitz.csRGB,pic)\n",
    "        \n",
    "        final_pic.writePNG(str(i)+\".jpeg\")\n",
    "        pic=None\n",
    "        final_pic=None\n",
    "        "
   ]
  }
 ],
 "metadata": {
  "kernelspec": {
   "display_name": "Python 3",
   "language": "python",
   "name": "python3"
  },
  "language_info": {
   "codemirror_mode": {
    "name": "ipython",
    "version": 3
   },
   "file_extension": ".py",
   "mimetype": "text/x-python",
   "name": "python",
   "nbconvert_exporter": "python",
   "pygments_lexer": "ipython3",
   "version": "3.7.4"
  }
 },
 "nbformat": 4,
 "nbformat_minor": 4
}
